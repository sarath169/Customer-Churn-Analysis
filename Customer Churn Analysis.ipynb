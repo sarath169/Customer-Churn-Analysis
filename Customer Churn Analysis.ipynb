{
 "cells": [
  {
   "cell_type": "code",
   "execution_count": 49,
   "metadata": {},
   "outputs": [],
   "source": [
    "import numpy as np\n",
    "import pandas as pd\n",
    "import matplotlib.pyplot as plt\n",
    "import seaborn as sns\n",
    "%matplotlib inline"
   ]
  },
  {
   "cell_type": "code",
   "execution_count": 50,
   "metadata": {},
   "outputs": [],
   "source": [
    "data = pd.read_csv('Churn History Dataset.csv')\n",
    "test = pd.read_csv('Churn Test Dataset.csv')"
   ]
  },
  {
   "cell_type": "code",
   "execution_count": 51,
   "metadata": {},
   "outputs": [
    {
     "data": {
      "text/html": [
       "<div>\n",
       "<style scoped>\n",
       "    .dataframe tbody tr th:only-of-type {\n",
       "        vertical-align: middle;\n",
       "    }\n",
       "\n",
       "    .dataframe tbody tr th {\n",
       "        vertical-align: top;\n",
       "    }\n",
       "\n",
       "    .dataframe thead th {\n",
       "        text-align: right;\n",
       "    }\n",
       "</style>\n",
       "<table border=\"1\" class=\"dataframe\">\n",
       "  <thead>\n",
       "    <tr style=\"text-align: right;\">\n",
       "      <th></th>\n",
       "      <th>state</th>\n",
       "      <th>account length</th>\n",
       "      <th>area code</th>\n",
       "      <th>phone number</th>\n",
       "      <th>international plan</th>\n",
       "      <th>voice mail plan</th>\n",
       "      <th>number vmail messages</th>\n",
       "      <th>total day minutes</th>\n",
       "      <th>total day calls</th>\n",
       "      <th>total day charge</th>\n",
       "      <th>...</th>\n",
       "      <th>total eve calls</th>\n",
       "      <th>total eve charge</th>\n",
       "      <th>total night minutes</th>\n",
       "      <th>total night calls</th>\n",
       "      <th>total night charge</th>\n",
       "      <th>total intl minutes</th>\n",
       "      <th>total intl calls</th>\n",
       "      <th>total intl charge</th>\n",
       "      <th>number customer service calls</th>\n",
       "      <th>Y_var</th>\n",
       "    </tr>\n",
       "  </thead>\n",
       "  <tbody>\n",
       "    <tr>\n",
       "      <td>0</td>\n",
       "      <td>KS</td>\n",
       "      <td>128</td>\n",
       "      <td>415</td>\n",
       "      <td>382-4657</td>\n",
       "      <td>no</td>\n",
       "      <td>yes</td>\n",
       "      <td>25</td>\n",
       "      <td>265.1</td>\n",
       "      <td>110.0</td>\n",
       "      <td>45.07</td>\n",
       "      <td>...</td>\n",
       "      <td>99</td>\n",
       "      <td>16.78</td>\n",
       "      <td>244.7</td>\n",
       "      <td>91.0</td>\n",
       "      <td>11.01</td>\n",
       "      <td>10.0</td>\n",
       "      <td>3</td>\n",
       "      <td>2.70</td>\n",
       "      <td>1</td>\n",
       "      <td>False.</td>\n",
       "    </tr>\n",
       "    <tr>\n",
       "      <td>1</td>\n",
       "      <td>OH</td>\n",
       "      <td>107</td>\n",
       "      <td>415</td>\n",
       "      <td>371-7191</td>\n",
       "      <td>no</td>\n",
       "      <td>yes</td>\n",
       "      <td>26</td>\n",
       "      <td>161.6</td>\n",
       "      <td>123.0</td>\n",
       "      <td>27.47</td>\n",
       "      <td>...</td>\n",
       "      <td>103</td>\n",
       "      <td>16.62</td>\n",
       "      <td>254.4</td>\n",
       "      <td>103.0</td>\n",
       "      <td>11.45</td>\n",
       "      <td>13.7</td>\n",
       "      <td>3</td>\n",
       "      <td>3.70</td>\n",
       "      <td>1</td>\n",
       "      <td>False.</td>\n",
       "    </tr>\n",
       "    <tr>\n",
       "      <td>2</td>\n",
       "      <td>NJ</td>\n",
       "      <td>137</td>\n",
       "      <td>415</td>\n",
       "      <td>358-1921</td>\n",
       "      <td>no</td>\n",
       "      <td>no</td>\n",
       "      <td>0</td>\n",
       "      <td>243.4</td>\n",
       "      <td>114.0</td>\n",
       "      <td>41.38</td>\n",
       "      <td>...</td>\n",
       "      <td>110</td>\n",
       "      <td>10.30</td>\n",
       "      <td>162.6</td>\n",
       "      <td>104.0</td>\n",
       "      <td>7.32</td>\n",
       "      <td>12.2</td>\n",
       "      <td>5</td>\n",
       "      <td>3.29</td>\n",
       "      <td>0</td>\n",
       "      <td>False.</td>\n",
       "    </tr>\n",
       "    <tr>\n",
       "      <td>3</td>\n",
       "      <td>OH</td>\n",
       "      <td>84</td>\n",
       "      <td>408</td>\n",
       "      <td>375-9999</td>\n",
       "      <td>yes</td>\n",
       "      <td>no</td>\n",
       "      <td>0</td>\n",
       "      <td>299.4</td>\n",
       "      <td>7100.0</td>\n",
       "      <td>1500.90</td>\n",
       "      <td>...</td>\n",
       "      <td>88</td>\n",
       "      <td>5.26</td>\n",
       "      <td>196.9</td>\n",
       "      <td>89.0</td>\n",
       "      <td>8.86</td>\n",
       "      <td>600.6</td>\n",
       "      <td>7</td>\n",
       "      <td>1.78</td>\n",
       "      <td>2</td>\n",
       "      <td>False.</td>\n",
       "    </tr>\n",
       "    <tr>\n",
       "      <td>4</td>\n",
       "      <td>OK</td>\n",
       "      <td>75</td>\n",
       "      <td>415</td>\n",
       "      <td>330-6626</td>\n",
       "      <td>yes</td>\n",
       "      <td>no</td>\n",
       "      <td>0</td>\n",
       "      <td>166.7</td>\n",
       "      <td>113.0</td>\n",
       "      <td>28.34</td>\n",
       "      <td>...</td>\n",
       "      <td>122</td>\n",
       "      <td>12.61</td>\n",
       "      <td>186.9</td>\n",
       "      <td>121.0</td>\n",
       "      <td>8.41</td>\n",
       "      <td>10.1</td>\n",
       "      <td>3</td>\n",
       "      <td>2.73</td>\n",
       "      <td>3</td>\n",
       "      <td>False.</td>\n",
       "    </tr>\n",
       "  </tbody>\n",
       "</table>\n",
       "<p>5 rows × 21 columns</p>\n",
       "</div>"
      ],
      "text/plain": [
       "  state  account length  area code phone number international plan  \\\n",
       "0    KS             128        415     382-4657                 no   \n",
       "1    OH             107        415     371-7191                 no   \n",
       "2    NJ             137        415     358-1921                 no   \n",
       "3    OH              84        408     375-9999                yes   \n",
       "4    OK              75        415     330-6626                yes   \n",
       "\n",
       "  voice mail plan  number vmail messages  total day minutes  total day calls  \\\n",
       "0             yes                     25              265.1            110.0   \n",
       "1             yes                     26              161.6            123.0   \n",
       "2              no                      0              243.4            114.0   \n",
       "3              no                      0              299.4           7100.0   \n",
       "4              no                      0              166.7            113.0   \n",
       "\n",
       "   total day charge  ...  total eve calls  total eve charge  \\\n",
       "0             45.07  ...               99             16.78   \n",
       "1             27.47  ...              103             16.62   \n",
       "2             41.38  ...              110             10.30   \n",
       "3           1500.90  ...               88              5.26   \n",
       "4             28.34  ...              122             12.61   \n",
       "\n",
       "   total night minutes  total night calls  total night charge  \\\n",
       "0                244.7               91.0               11.01   \n",
       "1                254.4              103.0               11.45   \n",
       "2                162.6              104.0                7.32   \n",
       "3                196.9               89.0                8.86   \n",
       "4                186.9              121.0                8.41   \n",
       "\n",
       "   total intl minutes  total intl calls  total intl charge  \\\n",
       "0                10.0                 3               2.70   \n",
       "1                13.7                 3               3.70   \n",
       "2                12.2                 5               3.29   \n",
       "3               600.6                 7               1.78   \n",
       "4                10.1                 3               2.73   \n",
       "\n",
       "   number customer service calls    Y_var  \n",
       "0                              1   False.  \n",
       "1                              1   False.  \n",
       "2                              0   False.  \n",
       "3                              2   False.  \n",
       "4                              3   False.  \n",
       "\n",
       "[5 rows x 21 columns]"
      ]
     },
     "execution_count": 51,
     "metadata": {},
     "output_type": "execute_result"
    }
   ],
   "source": [
    "data.head()"
   ]
  },
  {
   "cell_type": "code",
   "execution_count": 19,
   "metadata": {},
   "outputs": [
    {
     "name": "stdout",
     "output_type": "stream",
     "text": [
      "<class 'pandas.core.frame.DataFrame'>\n",
      "RangeIndex: 1672 entries, 0 to 1671\n",
      "Data columns (total 21 columns):\n",
      "state                            1672 non-null object\n",
      "account length                   1672 non-null int64\n",
      "area code                        1672 non-null int64\n",
      "phone number                     1672 non-null object\n",
      "international plan               1672 non-null object\n",
      "voice mail plan                  1672 non-null object\n",
      "number vmail messages            1672 non-null int64\n",
      "total day minutes                1672 non-null float64\n",
      "total day calls                  1672 non-null int64\n",
      "total day charge                 1672 non-null float64\n",
      "total eve minutes                1672 non-null float64\n",
      "total eve calls                  1672 non-null int64\n",
      "total eve charge                 1672 non-null float64\n",
      "total night minutes              1672 non-null float64\n",
      "total night calls                1672 non-null int64\n",
      "total night charge               1672 non-null float64\n",
      "total intl minutes               1672 non-null float64\n",
      "total intl calls                 1672 non-null int64\n",
      "total intl charge                1672 non-null float64\n",
      "number customer service calls    1672 non-null int64\n",
      "Churn Indicator                  1672 non-null object\n",
      "dtypes: float64(8), int64(8), object(5)\n",
      "memory usage: 274.4+ KB\n"
     ]
    }
   ],
   "source": [
    "test.info()"
   ]
  },
  {
   "cell_type": "code",
   "execution_count": 20,
   "metadata": {},
   "outputs": [
    {
     "name": "stdout",
     "output_type": "stream",
     "text": [
      "<class 'pandas.core.frame.DataFrame'>\n",
      "RangeIndex: 3333 entries, 0 to 3332\n",
      "Data columns (total 21 columns):\n",
      "state                            3333 non-null object\n",
      "account length                   3333 non-null int64\n",
      "area code                        3333 non-null int64\n",
      "phone number                     3333 non-null object\n",
      "international plan               3333 non-null object\n",
      "voice mail plan                  3333 non-null object\n",
      "number vmail messages            3333 non-null int64\n",
      "total day minutes                3333 non-null float64\n",
      "total day calls                  3332 non-null float64\n",
      "total day charge                 3332 non-null float64\n",
      "total eve minutes                3331 non-null float64\n",
      "total eve calls                  3333 non-null int64\n",
      "total eve charge                 3332 non-null float64\n",
      "total night minutes              3333 non-null float64\n",
      "total night calls                3331 non-null float64\n",
      "total night charge               3333 non-null float64\n",
      "total intl minutes               3333 non-null float64\n",
      "total intl calls                 3333 non-null int64\n",
      "total intl charge                3333 non-null float64\n",
      "number customer service calls    3333 non-null int64\n",
      "Y_var                            3333 non-null object\n",
      "dtypes: float64(10), int64(6), object(5)\n",
      "memory usage: 546.9+ KB\n"
     ]
    }
   ],
   "source": [
    "data.info()"
   ]
  },
  {
   "cell_type": "code",
   "execution_count": 21,
   "metadata": {},
   "outputs": [
    {
     "name": "stdout",
     "output_type": "stream",
     "text": [
      "<class 'pandas.core.frame.DataFrame'>\n",
      "Int64Index: 3330 entries, 0 to 3332\n",
      "Data columns (total 21 columns):\n",
      "state                            3330 non-null object\n",
      "account length                   3330 non-null int64\n",
      "area code                        3330 non-null int64\n",
      "phone number                     3330 non-null object\n",
      "international plan               3330 non-null object\n",
      "voice mail plan                  3330 non-null object\n",
      "number vmail messages            3330 non-null int64\n",
      "total day minutes                3330 non-null float64\n",
      "total day calls                  3330 non-null float64\n",
      "total day charge                 3330 non-null float64\n",
      "total eve minutes                3330 non-null float64\n",
      "total eve calls                  3330 non-null int64\n",
      "total eve charge                 3330 non-null float64\n",
      "total night minutes              3330 non-null float64\n",
      "total night calls                3330 non-null float64\n",
      "total night charge               3330 non-null float64\n",
      "total intl minutes               3330 non-null float64\n",
      "total intl calls                 3330 non-null int64\n",
      "total intl charge                3330 non-null float64\n",
      "number customer service calls    3330 non-null int64\n",
      "Y_var                            3330 non-null object\n",
      "dtypes: float64(10), int64(6), object(5)\n",
      "memory usage: 572.3+ KB\n"
     ]
    }
   ],
   "source": [
    "data.dropna(inplace=True, axis=0)\n",
    "data.info()"
   ]
  },
  {
   "cell_type": "code",
   "execution_count": 22,
   "metadata": {},
   "outputs": [
    {
     "data": {
      "text/html": [
       "<div>\n",
       "<style scoped>\n",
       "    .dataframe tbody tr th:only-of-type {\n",
       "        vertical-align: middle;\n",
       "    }\n",
       "\n",
       "    .dataframe tbody tr th {\n",
       "        vertical-align: top;\n",
       "    }\n",
       "\n",
       "    .dataframe thead th {\n",
       "        text-align: right;\n",
       "    }\n",
       "</style>\n",
       "<table border=\"1\" class=\"dataframe\">\n",
       "  <thead>\n",
       "    <tr style=\"text-align: right;\">\n",
       "      <th></th>\n",
       "      <th>account length</th>\n",
       "      <th>area code</th>\n",
       "      <th>number vmail messages</th>\n",
       "      <th>total day minutes</th>\n",
       "      <th>total day calls</th>\n",
       "      <th>total day charge</th>\n",
       "      <th>total eve minutes</th>\n",
       "      <th>total eve calls</th>\n",
       "      <th>total eve charge</th>\n",
       "      <th>total night minutes</th>\n",
       "      <th>total night calls</th>\n",
       "      <th>total night charge</th>\n",
       "      <th>total intl minutes</th>\n",
       "      <th>total intl calls</th>\n",
       "      <th>total intl charge</th>\n",
       "      <th>number customer service calls</th>\n",
       "    </tr>\n",
       "  </thead>\n",
       "  <tbody>\n",
       "    <tr>\n",
       "      <td>count</td>\n",
       "      <td>3330.000000</td>\n",
       "      <td>3330.000000</td>\n",
       "      <td>3330.000000</td>\n",
       "      <td>3330.000000</td>\n",
       "      <td>3330.000000</td>\n",
       "      <td>3330.000000</td>\n",
       "      <td>3330.000000</td>\n",
       "      <td>3330.000000</td>\n",
       "      <td>3330.000000</td>\n",
       "      <td>3330.000000</td>\n",
       "      <td>3330.000000</td>\n",
       "      <td>3330.000000</td>\n",
       "      <td>3330.000000</td>\n",
       "      <td>3330.000000</td>\n",
       "      <td>3330.000000</td>\n",
       "      <td>3330.000000</td>\n",
       "    </tr>\n",
       "    <tr>\n",
       "      <td>mean</td>\n",
       "      <td>101.075075</td>\n",
       "      <td>437.116817</td>\n",
       "      <td>8.106306</td>\n",
       "      <td>190.754024</td>\n",
       "      <td>103.214414</td>\n",
       "      <td>101.812712</td>\n",
       "      <td>201.010931</td>\n",
       "      <td>100.336336</td>\n",
       "      <td>17.086141</td>\n",
       "      <td>201.885748</td>\n",
       "      <td>100.371471</td>\n",
       "      <td>16.072465</td>\n",
       "      <td>10.523874</td>\n",
       "      <td>4.488889</td>\n",
       "      <td>13.138159</td>\n",
       "      <td>1.572973</td>\n",
       "    </tr>\n",
       "    <tr>\n",
       "      <td>std</td>\n",
       "      <td>39.807638</td>\n",
       "      <td>42.333928</td>\n",
       "      <td>13.692371</td>\n",
       "      <td>599.148698</td>\n",
       "      <td>128.930190</td>\n",
       "      <td>4026.303195</td>\n",
       "      <td>50.715831</td>\n",
       "      <td>23.789803</td>\n",
       "      <td>4.310838</td>\n",
       "      <td>75.424997</td>\n",
       "      <td>24.884036</td>\n",
       "      <td>405.750946</td>\n",
       "      <td>12.247234</td>\n",
       "      <td>2.514487</td>\n",
       "      <td>598.588902</td>\n",
       "      <td>1.430556</td>\n",
       "    </tr>\n",
       "    <tr>\n",
       "      <td>min</td>\n",
       "      <td>1.000000</td>\n",
       "      <td>408.000000</td>\n",
       "      <td>0.000000</td>\n",
       "      <td>0.000000</td>\n",
       "      <td>0.000000</td>\n",
       "      <td>0.000000</td>\n",
       "      <td>0.000000</td>\n",
       "      <td>0.000000</td>\n",
       "      <td>0.000000</td>\n",
       "      <td>23.200000</td>\n",
       "      <td>33.000000</td>\n",
       "      <td>1.040000</td>\n",
       "      <td>0.000000</td>\n",
       "      <td>0.000000</td>\n",
       "      <td>0.000000</td>\n",
       "      <td>0.000000</td>\n",
       "    </tr>\n",
       "    <tr>\n",
       "      <td>25%</td>\n",
       "      <td>74.000000</td>\n",
       "      <td>408.000000</td>\n",
       "      <td>0.000000</td>\n",
       "      <td>143.700000</td>\n",
       "      <td>87.000000</td>\n",
       "      <td>24.430000</td>\n",
       "      <td>166.600000</td>\n",
       "      <td>87.000000</td>\n",
       "      <td>14.160000</td>\n",
       "      <td>167.100000</td>\n",
       "      <td>87.000000</td>\n",
       "      <td>7.520000</td>\n",
       "      <td>8.500000</td>\n",
       "      <td>3.000000</td>\n",
       "      <td>2.300000</td>\n",
       "      <td>1.000000</td>\n",
       "    </tr>\n",
       "    <tr>\n",
       "      <td>50%</td>\n",
       "      <td>101.000000</td>\n",
       "      <td>415.000000</td>\n",
       "      <td>0.000000</td>\n",
       "      <td>179.400000</td>\n",
       "      <td>101.000000</td>\n",
       "      <td>30.500000</td>\n",
       "      <td>201.400000</td>\n",
       "      <td>100.000000</td>\n",
       "      <td>17.120000</td>\n",
       "      <td>201.250000</td>\n",
       "      <td>100.000000</td>\n",
       "      <td>9.055000</td>\n",
       "      <td>10.300000</td>\n",
       "      <td>4.000000</td>\n",
       "      <td>2.780000</td>\n",
       "      <td>1.000000</td>\n",
       "    </tr>\n",
       "    <tr>\n",
       "      <td>75%</td>\n",
       "      <td>127.000000</td>\n",
       "      <td>510.000000</td>\n",
       "      <td>20.000000</td>\n",
       "      <td>216.675000</td>\n",
       "      <td>114.000000</td>\n",
       "      <td>36.835000</td>\n",
       "      <td>235.300000</td>\n",
       "      <td>114.000000</td>\n",
       "      <td>20.000000</td>\n",
       "      <td>235.375000</td>\n",
       "      <td>113.000000</td>\n",
       "      <td>10.590000</td>\n",
       "      <td>12.100000</td>\n",
       "      <td>6.000000</td>\n",
       "      <td>3.270000</td>\n",
       "      <td>2.000000</td>\n",
       "    </tr>\n",
       "    <tr>\n",
       "      <td>max</td>\n",
       "      <td>243.000000</td>\n",
       "      <td>510.000000</td>\n",
       "      <td>51.000000</td>\n",
       "      <td>34545.000000</td>\n",
       "      <td>7100.000000</td>\n",
       "      <td>232343.000000</td>\n",
       "      <td>363.700000</td>\n",
       "      <td>850.000000</td>\n",
       "      <td>30.910000</td>\n",
       "      <td>3434.340000</td>\n",
       "      <td>987.000000</td>\n",
       "      <td>23423.000000</td>\n",
       "      <td>600.600000</td>\n",
       "      <td>34.000000</td>\n",
       "      <td>34545.000000</td>\n",
       "      <td>34.000000</td>\n",
       "    </tr>\n",
       "  </tbody>\n",
       "</table>\n",
       "</div>"
      ],
      "text/plain": [
       "       account length    area code  number vmail messages  total day minutes  \\\n",
       "count     3330.000000  3330.000000            3330.000000        3330.000000   \n",
       "mean       101.075075   437.116817               8.106306         190.754024   \n",
       "std         39.807638    42.333928              13.692371         599.148698   \n",
       "min          1.000000   408.000000               0.000000           0.000000   \n",
       "25%         74.000000   408.000000               0.000000         143.700000   \n",
       "50%        101.000000   415.000000               0.000000         179.400000   \n",
       "75%        127.000000   510.000000              20.000000         216.675000   \n",
       "max        243.000000   510.000000              51.000000       34545.000000   \n",
       "\n",
       "       total day calls  total day charge  total eve minutes  total eve calls  \\\n",
       "count      3330.000000       3330.000000        3330.000000      3330.000000   \n",
       "mean        103.214414        101.812712         201.010931       100.336336   \n",
       "std         128.930190       4026.303195          50.715831        23.789803   \n",
       "min           0.000000          0.000000           0.000000         0.000000   \n",
       "25%          87.000000         24.430000         166.600000        87.000000   \n",
       "50%         101.000000         30.500000         201.400000       100.000000   \n",
       "75%         114.000000         36.835000         235.300000       114.000000   \n",
       "max        7100.000000     232343.000000         363.700000       850.000000   \n",
       "\n",
       "       total eve charge  total night minutes  total night calls  \\\n",
       "count       3330.000000          3330.000000        3330.000000   \n",
       "mean          17.086141           201.885748         100.371471   \n",
       "std            4.310838            75.424997          24.884036   \n",
       "min            0.000000            23.200000          33.000000   \n",
       "25%           14.160000           167.100000          87.000000   \n",
       "50%           17.120000           201.250000         100.000000   \n",
       "75%           20.000000           235.375000         113.000000   \n",
       "max           30.910000          3434.340000         987.000000   \n",
       "\n",
       "       total night charge  total intl minutes  total intl calls  \\\n",
       "count         3330.000000         3330.000000       3330.000000   \n",
       "mean            16.072465           10.523874          4.488889   \n",
       "std            405.750946           12.247234          2.514487   \n",
       "min              1.040000            0.000000          0.000000   \n",
       "25%              7.520000            8.500000          3.000000   \n",
       "50%              9.055000           10.300000          4.000000   \n",
       "75%             10.590000           12.100000          6.000000   \n",
       "max          23423.000000          600.600000         34.000000   \n",
       "\n",
       "       total intl charge  number customer service calls  \n",
       "count        3330.000000                    3330.000000  \n",
       "mean           13.138159                       1.572973  \n",
       "std           598.588902                       1.430556  \n",
       "min             0.000000                       0.000000  \n",
       "25%             2.300000                       1.000000  \n",
       "50%             2.780000                       1.000000  \n",
       "75%             3.270000                       2.000000  \n",
       "max         34545.000000                      34.000000  "
      ]
     },
     "execution_count": 22,
     "metadata": {},
     "output_type": "execute_result"
    }
   ],
   "source": [
    "data.describe()"
   ]
  },
  {
   "cell_type": "code",
   "execution_count": 23,
   "metadata": {},
   "outputs": [],
   "source": [
    "data.drop(['phone number'], axis=1, inplace=True)\n",
    "test.drop(['phone number'], axis=1, inplace=True)"
   ]
  },
  {
   "cell_type": "code",
   "execution_count": 25,
   "metadata": {},
   "outputs": [
    {
     "data": {
      "text/html": [
       "<div>\n",
       "<style scoped>\n",
       "    .dataframe tbody tr th:only-of-type {\n",
       "        vertical-align: middle;\n",
       "    }\n",
       "\n",
       "    .dataframe tbody tr th {\n",
       "        vertical-align: top;\n",
       "    }\n",
       "\n",
       "    .dataframe thead th {\n",
       "        text-align: right;\n",
       "    }\n",
       "</style>\n",
       "<table border=\"1\" class=\"dataframe\">\n",
       "  <thead>\n",
       "    <tr style=\"text-align: right;\">\n",
       "      <th></th>\n",
       "      <th>state</th>\n",
       "      <th>area code</th>\n",
       "      <th>number vmail messages</th>\n",
       "      <th>total day minutes</th>\n",
       "      <th>total day calls</th>\n",
       "      <th>total day charge</th>\n",
       "      <th>total eve minutes</th>\n",
       "      <th>total eve calls</th>\n",
       "      <th>total eve charge</th>\n",
       "      <th>total night minutes</th>\n",
       "      <th>total night calls</th>\n",
       "      <th>total night charge</th>\n",
       "      <th>total intl minutes</th>\n",
       "      <th>total intl calls</th>\n",
       "      <th>total intl charge</th>\n",
       "      <th>number customer service calls</th>\n",
       "      <th>Y_var_encoded</th>\n",
       "      <th>international plan_encoded</th>\n",
       "      <th>voice mail plan_encoded</th>\n",
       "    </tr>\n",
       "  </thead>\n",
       "  <tbody>\n",
       "    <tr>\n",
       "      <td>0</td>\n",
       "      <td>KS</td>\n",
       "      <td>415</td>\n",
       "      <td>25</td>\n",
       "      <td>265.1</td>\n",
       "      <td>110.0</td>\n",
       "      <td>45.07</td>\n",
       "      <td>197.4</td>\n",
       "      <td>99</td>\n",
       "      <td>16.78</td>\n",
       "      <td>244.7</td>\n",
       "      <td>91.0</td>\n",
       "      <td>11.01</td>\n",
       "      <td>10.0</td>\n",
       "      <td>3</td>\n",
       "      <td>2.70</td>\n",
       "      <td>1</td>\n",
       "      <td>0</td>\n",
       "      <td>0</td>\n",
       "      <td>1</td>\n",
       "    </tr>\n",
       "    <tr>\n",
       "      <td>1</td>\n",
       "      <td>OH</td>\n",
       "      <td>415</td>\n",
       "      <td>26</td>\n",
       "      <td>161.6</td>\n",
       "      <td>123.0</td>\n",
       "      <td>27.47</td>\n",
       "      <td>195.5</td>\n",
       "      <td>103</td>\n",
       "      <td>16.62</td>\n",
       "      <td>254.4</td>\n",
       "      <td>103.0</td>\n",
       "      <td>11.45</td>\n",
       "      <td>13.7</td>\n",
       "      <td>3</td>\n",
       "      <td>3.70</td>\n",
       "      <td>1</td>\n",
       "      <td>0</td>\n",
       "      <td>0</td>\n",
       "      <td>1</td>\n",
       "    </tr>\n",
       "    <tr>\n",
       "      <td>2</td>\n",
       "      <td>NJ</td>\n",
       "      <td>415</td>\n",
       "      <td>0</td>\n",
       "      <td>243.4</td>\n",
       "      <td>114.0</td>\n",
       "      <td>41.38</td>\n",
       "      <td>121.2</td>\n",
       "      <td>110</td>\n",
       "      <td>10.30</td>\n",
       "      <td>162.6</td>\n",
       "      <td>104.0</td>\n",
       "      <td>7.32</td>\n",
       "      <td>12.2</td>\n",
       "      <td>5</td>\n",
       "      <td>3.29</td>\n",
       "      <td>0</td>\n",
       "      <td>0</td>\n",
       "      <td>0</td>\n",
       "      <td>0</td>\n",
       "    </tr>\n",
       "    <tr>\n",
       "      <td>3</td>\n",
       "      <td>OH</td>\n",
       "      <td>408</td>\n",
       "      <td>0</td>\n",
       "      <td>299.4</td>\n",
       "      <td>7100.0</td>\n",
       "      <td>1500.90</td>\n",
       "      <td>61.9</td>\n",
       "      <td>88</td>\n",
       "      <td>5.26</td>\n",
       "      <td>196.9</td>\n",
       "      <td>89.0</td>\n",
       "      <td>8.86</td>\n",
       "      <td>600.6</td>\n",
       "      <td>7</td>\n",
       "      <td>1.78</td>\n",
       "      <td>2</td>\n",
       "      <td>0</td>\n",
       "      <td>1</td>\n",
       "      <td>0</td>\n",
       "    </tr>\n",
       "    <tr>\n",
       "      <td>4</td>\n",
       "      <td>OK</td>\n",
       "      <td>415</td>\n",
       "      <td>0</td>\n",
       "      <td>166.7</td>\n",
       "      <td>113.0</td>\n",
       "      <td>28.34</td>\n",
       "      <td>148.3</td>\n",
       "      <td>122</td>\n",
       "      <td>12.61</td>\n",
       "      <td>186.9</td>\n",
       "      <td>121.0</td>\n",
       "      <td>8.41</td>\n",
       "      <td>10.1</td>\n",
       "      <td>3</td>\n",
       "      <td>2.73</td>\n",
       "      <td>3</td>\n",
       "      <td>0</td>\n",
       "      <td>1</td>\n",
       "      <td>0</td>\n",
       "    </tr>\n",
       "  </tbody>\n",
       "</table>\n",
       "</div>"
      ],
      "text/plain": [
       "  state  area code  number vmail messages  total day minutes  total day calls  \\\n",
       "0    KS        415                     25              265.1            110.0   \n",
       "1    OH        415                     26              161.6            123.0   \n",
       "2    NJ        415                      0              243.4            114.0   \n",
       "3    OH        408                      0              299.4           7100.0   \n",
       "4    OK        415                      0              166.7            113.0   \n",
       "\n",
       "   total day charge  total eve minutes  total eve calls  total eve charge  \\\n",
       "0             45.07              197.4               99             16.78   \n",
       "1             27.47              195.5              103             16.62   \n",
       "2             41.38              121.2              110             10.30   \n",
       "3           1500.90               61.9               88              5.26   \n",
       "4             28.34              148.3              122             12.61   \n",
       "\n",
       "   total night minutes  total night calls  total night charge  \\\n",
       "0                244.7               91.0               11.01   \n",
       "1                254.4              103.0               11.45   \n",
       "2                162.6              104.0                7.32   \n",
       "3                196.9               89.0                8.86   \n",
       "4                186.9              121.0                8.41   \n",
       "\n",
       "   total intl minutes  total intl calls  total intl charge  \\\n",
       "0                10.0                 3               2.70   \n",
       "1                13.7                 3               3.70   \n",
       "2                12.2                 5               3.29   \n",
       "3               600.6                 7               1.78   \n",
       "4                10.1                 3               2.73   \n",
       "\n",
       "   number customer service calls  Y_var_encoded  international plan_encoded  \\\n",
       "0                              1              0                           0   \n",
       "1                              1              0                           0   \n",
       "2                              0              0                           0   \n",
       "3                              2              0                           1   \n",
       "4                              3              0                           1   \n",
       "\n",
       "   voice mail plan_encoded  \n",
       "0                        1  \n",
       "1                        1  \n",
       "2                        0  \n",
       "3                        0  \n",
       "4                        0  "
      ]
     },
     "execution_count": 25,
     "metadata": {},
     "output_type": "execute_result"
    }
   ],
   "source": [
    "data['Y_var_encoded']=pd.get_dummies(data['Y_var'], drop_first=True)\n",
    "data['international plan_encoded']=pd.get_dummies(data['international plan'], drop_first=True)\n",
    "data['voice mail plan_encoded']=pd.get_dummies(data['voice mail plan'], drop_first=True)\n",
    "data.drop(['Y_var','international plan','voice mail plan'], axis=1, inplace=True)\n",
    "\n",
    "test['Y_var_encoded']=pd.get_dummies(test['Churn Indicator'], drop_first=True)\n",
    "test['international plan_encoded']=pd.get_dummies(test['international plan'], drop_first=True)\n",
    "test['voice mail plan_encoded']=pd.get_dummies(test['voice mail plan'], drop_first=True)\n",
    "test.drop(['international plan','voice mail plan','Churn Indicator'], axis=1, inplace=True)\n",
    "\n",
    "data.head()"
   ]
  },
  {
   "cell_type": "markdown",
   "metadata": {},
   "source": [
    "#### Y_var_encoded = 0 means customer has not left.\n",
    "#### international plan_encoded = 0 means customer has not opted for international plan\n",
    "#### voice mail plan_encoded = 0 means customer has not opted for voice mail plan\n"
   ]
  },
  {
   "cell_type": "code",
   "execution_count": 26,
   "metadata": {},
   "outputs": [
    {
     "data": {
      "text/plain": [
       "Index(['state', 'area code', 'number vmail messages', 'total day minutes',\n",
       "       'total day calls', 'total day charge', 'total eve minutes',\n",
       "       'total eve calls', 'total eve charge', 'total night minutes',\n",
       "       'total night calls', 'total night charge', 'total intl minutes',\n",
       "       'total intl calls', 'total intl charge',\n",
       "       'number customer service calls', 'Y_var_encoded',\n",
       "       'international plan_encoded', 'voice mail plan_encoded'],\n",
       "      dtype='object')"
      ]
     },
     "execution_count": 26,
     "metadata": {},
     "output_type": "execute_result"
    }
   ],
   "source": [
    "data.columns"
   ]
  },
  {
   "cell_type": "markdown",
   "metadata": {},
   "source": [
    "## Q1 Exploratory Analysis"
   ]
  },
  {
   "cell_type": "code",
   "execution_count": 27,
   "metadata": {
    "scrolled": true
   },
   "outputs": [
    {
     "data": {
      "text/plain": [
       "<matplotlib.axes._subplots.AxesSubplot at 0x2e029cb1b88>"
      ]
     },
     "execution_count": 27,
     "metadata": {},
     "output_type": "execute_result"
    },
    {
     "data": {
      "image/png": "[encoded data removed]",
      "text/plain": [
       "<Figure size 432x288 with 1 Axes>"
      ]
     },
     "metadata": {
      "needs_background": "light"
     },
     "output_type": "display_data"
    }
   ],
   "source": [
    "sns.barplot(data['Y_var_encoded'],data['number customer service calls'])"
   ]
  },
  {
   "cell_type": "markdown",
   "metadata": {},
   "source": [
    "##### From above bar plot we can say that the mean of number of customer service calls is higher for those leaving the company."
   ]
  },
  {
   "cell_type": "code",
   "execution_count": 28,
   "metadata": {},
   "outputs": [
    {
     "data": {
      "text/plain": [
       "0    2323\n",
       "1     311\n",
       "dtype: int64"
      ]
     },
     "execution_count": 28,
     "metadata": {},
     "output_type": "execute_result"
    }
   ],
   "source": [
    "pd.get_dummies(data[data['number customer service calls']<3]['Y_var_encoded']).sum()"
   ]
  },
  {
   "cell_type": "code",
   "execution_count": 13,
   "metadata": {},
   "outputs": [
    {
     "data": {
      "text/plain": [
       "0    125\n",
       "1    143\n",
       "dtype: int64"
      ]
     },
     "execution_count": 13,
     "metadata": {},
     "output_type": "execute_result"
    }
   ],
   "source": [
    "pd.get_dummies(data[data['number customer service calls']>3]['Y_var_encoded']).sum()"
   ]
  },
  {
   "cell_type": "markdown",
   "metadata": {},
   "source": [
    "##### As number of customer service calls increases, churn rate increases."
   ]
  },
  {
   "cell_type": "code",
   "execution_count": 37,
   "metadata": {},
   "outputs": [
    {
     "data": {
      "image/png": "[encoded data removed]",
      "text/plain": [
       "<Figure size 720x720 with 1 Axes>"
      ]
     },
     "metadata": {},
     "output_type": "display_data"
    }
   ],
   "source": [
    "churn_intl = data.groupby(['Y_var_encoded','international plan_encoded']).size()\n",
    "plt.figure(figsize=(10,10))\n",
    "plt.title('International plan churn data: Pie')\n",
    "labels=['False & No','False & Yes','True & No','True & Yes']\n",
    "plt.pie(churn_intl, labels=labels,autopct='%1.1f%%',startangle=0)\n",
    "plt.show()"
   ]
  },
  {
   "cell_type": "markdown",
   "metadata": {},
   "source": [
    "#### From the above pie plot, we can say that the customers opting for other company is more for international plan users."
   ]
  },
  {
   "cell_type": "code",
   "execution_count": 38,
   "metadata": {},
   "outputs": [
    {
     "data": {
      "image/png": "[encoded data removed]",
      "text/plain": [
       "<Figure size 720x720 with 1 Axes>"
      ]
     },
     "metadata": {},
     "output_type": "display_data"
    }
   ],
   "source": [
    "churn_voice = data.groupby(['Y_var_encoded','voice mail plan_encoded']).size()\n",
    "plt.figure(figsize=(10,10))\n",
    "plt.title('Voice mail plan churn data: Pie')\n",
    "labels=['False & No','False & Yes','True & No','True & Yes']\n",
    "plt.pie(churn_voice, labels=labels,autopct='%1.1f%%',startangle=90)\n",
    "plt.show()"
   ]
  },
  {
   "cell_type": "markdown",
   "metadata": {},
   "source": [
    "#### From the above pie plot, we can say that the customer who opted voice mail plan are not likely to leave the company."
   ]
  },
  {
   "cell_type": "code",
   "execution_count": 39,
   "metadata": {},
   "outputs": [],
   "source": [
    "data['total_spent']=data['total day charge']+data['total eve charge']+data['total night charge']+data['total intl charge']\n",
    "test['total_spent']=test['total day charge']+test['total eve charge']+test['total night charge']+test['total intl charge']"
   ]
  },
  {
   "cell_type": "code",
   "execution_count": 40,
   "metadata": {},
   "outputs": [
    {
     "data": {
      "text/plain": [
       "count      3330.000000\n",
       "mean        148.109477\n",
       "std        4149.414355\n",
       "min          22.930000\n",
       "25%          52.440000\n",
       "50%          59.475000\n",
       "75%          66.490000\n",
       "max      232367.480000\n",
       "Name: total_spent, dtype: float64"
      ]
     },
     "execution_count": 40,
     "metadata": {},
     "output_type": "execute_result"
    }
   ],
   "source": [
    "data['total_spent'].describe()\n"
   ]
  },
  {
   "cell_type": "code",
   "execution_count": 43,
   "metadata": {},
   "outputs": [
    {
     "data": {
      "text/plain": [
       "91.05508000000017"
      ]
     },
     "execution_count": 43,
     "metadata": {},
     "output_type": "execute_result"
    }
   ],
   "source": [
    "np.quantile(data['total_spent'],0.998)"
   ]
  },
  {
   "cell_type": "code",
   "execution_count": 44,
   "metadata": {},
   "outputs": [],
   "source": [
    "data= data[data['total_spent']<100]"
   ]
  },
  {
   "cell_type": "code",
   "execution_count": 47,
   "metadata": {},
   "outputs": [
    {
     "data": {
      "text/plain": [
       "<matplotlib.axes._subplots.AxesSubplot at 0x2e02a981a08>"
      ]
     },
     "execution_count": 47,
     "metadata": {},
     "output_type": "execute_result"
    },
    {
     "data": {
      "image/png": "[encoded data removed]",
      "text/plain": [
       "<Figure size 432x288 with 1 Axes>"
      ]
     },
     "metadata": {
      "needs_background": "light"
     },
     "output_type": "display_data"
    }
   ],
   "source": [
    "data['total_spent'].hist(bins=20)"
   ]
  },
  {
   "cell_type": "markdown",
   "metadata": {},
   "source": [
    "#### We have removed outliers considering total spenditure of costumer"
   ]
  },
  {
   "cell_type": "code",
   "execution_count": 48,
   "metadata": {},
   "outputs": [
    {
     "data": {
      "text/plain": [
       "<matplotlib.axes._subplots.AxesSubplot at 0x2e02a9c1148>"
      ]
     },
     "execution_count": 48,
     "metadata": {},
     "output_type": "execute_result"
    },
    {
     "data": {
      "image/png": "[encoded data removed]",
      "text/plain": [
       "<Figure size 432x288 with 1 Axes>"
      ]
     },
     "metadata": {
      "needs_background": "light"
     },
     "output_type": "display_data"
    }
   ],
   "source": [
    "sns.scatterplot(data['total_spent'], data['Y_var_encoded'])"
   ]
  },
  {
   "cell_type": "code",
   "execution_count": 22,
   "metadata": {},
   "outputs": [
    {
     "data": {
      "text/plain": [
       "<matplotlib.axes._subplots.AxesSubplot at 0x21b63036e50>"
      ]
     },
     "execution_count": 22,
     "metadata": {},
     "output_type": "execute_result"
    },
    {
     "data": {
      "image/png": "[encoded data removed]",
      "text/plain": [
       "<Figure size 432x288 with 1 Axes>"
      ]
     },
     "metadata": {
      "needs_background": "light"
     },
     "output_type": "display_data"
    }
   ],
   "source": [
    "data[data['Y_var_encoded']==1]['total_spent'].hist(bins=30)"
   ]
  },
  {
   "cell_type": "code",
   "execution_count": 23,
   "metadata": {},
   "outputs": [
    {
     "data": {
      "text/plain": [
       "<matplotlib.axes._subplots.AxesSubplot at 0x21b630ec7f0>"
      ]
     },
     "execution_count": 23,
     "metadata": {},
     "output_type": "execute_result"
    },
    {
     "data": {
      "image/png": "[encoded data removed]",
      "text/plain": [
       "<Figure size 432x288 with 1 Axes>"
      ]
     },
     "metadata": {
      "needs_background": "light"
     },
     "output_type": "display_data"
    }
   ],
   "source": [
    "data[data['Y_var_encoded']==0]['total_spent'].hist(bins=30)"
   ]
  },
  {
   "cell_type": "code",
   "execution_count": 24,
   "metadata": {},
   "outputs": [
    {
     "data": {
      "text/plain": [
       "233"
      ]
     },
     "execution_count": 24,
     "metadata": {},
     "output_type": "execute_result"
    }
   ],
   "source": [
    "data[(data['total_spent']>75)]['Y_var_encoded'].count()"
   ]
  },
  {
   "cell_type": "code",
   "execution_count": 25,
   "metadata": {},
   "outputs": [
    {
     "data": {
      "text/plain": [
       "173"
      ]
     },
     "execution_count": 25,
     "metadata": {},
     "output_type": "execute_result"
    }
   ],
   "source": [
    "data[(data['total_spent']>75) & (data['Y_var_encoded']==1)]['Y_var_encoded'].count()"
   ]
  },
  {
   "cell_type": "markdown",
   "metadata": {},
   "source": [
    "#### Customer who are spending more than 75 is more likely to leave the company."
   ]
  },
  {
   "cell_type": "code",
   "execution_count": 26,
   "metadata": {},
   "outputs": [
    {
     "data": {
      "text/plain": [
       "<matplotlib.axes._subplots.AxesSubplot at 0x21b632ba940>"
      ]
     },
     "execution_count": 26,
     "metadata": {},
     "output_type": "execute_result"
    },
    {
     "data": {
      "image/png": "[encoded data removed]",
      "text/plain": [
       "<Figure size 1440x1440 with 8 Axes>"
      ]
     },
     "metadata": {
      "needs_background": "light"
     },
     "output_type": "display_data"
    }
   ],
   "source": [
    "fig, ax =plt.subplots(4,2, figsize=(20,20))\n",
    "sns.distplot(data[data['Y_var_encoded']==1]['total day charge'], kde=False, ax=ax[0][0],axlabel='day charge of leaving costumers')\n",
    "sns.distplot(data[data['Y_var_encoded']==0]['total day charge'], kde=False, ax=ax[0][1],axlabel='day charge of non-leaving costumers')\n",
    "sns.distplot(data[data['Y_var_encoded']==1]['total eve charge'], kde=False, ax=ax[1][0],axlabel='eve charge of leaving costumers')\n",
    "sns.distplot(data[data['Y_var_encoded']==0]['total eve charge'], kde=False, ax=ax[1][1],axlabel='eve charge of non-leaving costumers')\n",
    "sns.distplot(data[data['Y_var_encoded']==1]['total night charge'], kde=False, ax=ax[2][0],axlabel='night charge of leaving costumers')\n",
    "sns.distplot(data[data['Y_var_encoded']==0]['total night charge'], kde=False, ax=ax[2][1],axlabel='night charge of non-leaving costumers')\n",
    "sns.distplot(data[data['Y_var_encoded']==1]['total intl charge'], kde=False, ax=ax[3][0],axlabel='intl charge of leaving costumers')\n",
    "sns.distplot(data[data['Y_var_encoded']==0]['total intl charge'], kde=False, ax=ax[3][1],axlabel='intl charge of non-leaving costumers')\n",
    "\n"
   ]
  },
  {
   "cell_type": "code",
   "execution_count": 27,
   "metadata": {},
   "outputs": [],
   "source": [
    "from sklearn.preprocessing import MinMaxScaler"
   ]
  },
  {
   "cell_type": "code",
   "execution_count": 28,
   "metadata": {},
   "outputs": [
    {
     "data": {
      "text/plain": [
       "<matplotlib.axes._subplots.AxesSubplot at 0x21b6318f1f0>"
      ]
     },
     "execution_count": 28,
     "metadata": {},
     "output_type": "execute_result"
    },
    {
     "data": {
      "image/png": "[encoded data removed]",
      "text/plain": [
       "<Figure size 1080x1080 with 2 Axes>"
      ]
     },
     "metadata": {
      "needs_background": "light"
     },
     "output_type": "display_data"
    }
   ],
   "source": [
    "plt.figure(figsize=(15,15))\n",
    "sns.heatmap(data.corr() , annot =True)"
   ]
  },
  {
   "cell_type": "code",
   "execution_count": 29,
   "metadata": {},
   "outputs": [],
   "source": [
    "test.drop(['total day minutes','total eve minutes','total night minutes','total intl minutes'],axis = 1,inplace = True)\n",
    "data.drop(['total day minutes','total eve minutes','total night minutes','total intl minutes'],axis = 1,inplace = True)"
   ]
  },
  {
   "cell_type": "code",
   "execution_count": 30,
   "metadata": {},
   "outputs": [],
   "source": [
    "data['area code']=data['area code'].astype(str)\n",
    "data = pd.get_dummies(data, drop_first=True)\n",
    "\n",
    "test['area code']=test['area code'].astype(str)\n",
    "test = pd.get_dummies(test, drop_first=True)"
   ]
  },
  {
   "cell_type": "code",
   "execution_count": 31,
   "metadata": {},
   "outputs": [
    {
     "name": "stdout",
     "output_type": "stream",
     "text": [
      "<class 'pandas.core.frame.DataFrame'>\n",
      "Int64Index: 3326 entries, 0 to 3332\n",
      "Data columns (total 66 columns):\n",
      " #   Column                         Non-Null Count  Dtype  \n",
      "---  ------                         --------------  -----  \n",
      " 0   number vmail messages          3326 non-null   int64  \n",
      " 1   total day calls                3326 non-null   float64\n",
      " 2   total day charge               3326 non-null   float64\n",
      " 3   total eve calls                3326 non-null   int64  \n",
      " 4   total eve charge               3326 non-null   float64\n",
      " 5   total night calls              3326 non-null   float64\n",
      " 6   total night charge             3326 non-null   float64\n",
      " 7   total intl calls               3326 non-null   int64  \n",
      " 8   total intl charge              3326 non-null   float64\n",
      " 9   number customer service calls  3326 non-null   int64  \n",
      " 10  Y_var_encoded                  3326 non-null   uint8  \n",
      " 11  international plan_encoded     3326 non-null   uint8  \n",
      " 12  voice mail plan_encoded        3326 non-null   uint8  \n",
      " 13  total_spent                    3326 non-null   float64\n",
      " 14  state_AL                       3326 non-null   uint8  \n",
      " 15  state_AR                       3326 non-null   uint8  \n",
      " 16  state_AZ                       3326 non-null   uint8  \n",
      " 17  state_CA                       3326 non-null   uint8  \n",
      " 18  state_CO                       3326 non-null   uint8  \n",
      " 19  state_CT                       3326 non-null   uint8  \n",
      " 20  state_DC                       3326 non-null   uint8  \n",
      " 21  state_DE                       3326 non-null   uint8  \n",
      " 22  state_FL                       3326 non-null   uint8  \n",
      " 23  state_GA                       3326 non-null   uint8  \n",
      " 24  state_HI                       3326 non-null   uint8  \n",
      " 25  state_IA                       3326 non-null   uint8  \n",
      " 26  state_ID                       3326 non-null   uint8  \n",
      " 27  state_IL                       3326 non-null   uint8  \n",
      " 28  state_IN                       3326 non-null   uint8  \n",
      " 29  state_KS                       3326 non-null   uint8  \n",
      " 30  state_KY                       3326 non-null   uint8  \n",
      " 31  state_LA                       3326 non-null   uint8  \n",
      " 32  state_MA                       3326 non-null   uint8  \n",
      " 33  state_MD                       3326 non-null   uint8  \n",
      " 34  state_ME                       3326 non-null   uint8  \n",
      " 35  state_MI                       3326 non-null   uint8  \n",
      " 36  state_MN                       3326 non-null   uint8  \n",
      " 37  state_MO                       3326 non-null   uint8  \n",
      " 38  state_MS                       3326 non-null   uint8  \n",
      " 39  state_MT                       3326 non-null   uint8  \n",
      " 40  state_NC                       3326 non-null   uint8  \n",
      " 41  state_ND                       3326 non-null   uint8  \n",
      " 42  state_NE                       3326 non-null   uint8  \n",
      " 43  state_NH                       3326 non-null   uint8  \n",
      " 44  state_NJ                       3326 non-null   uint8  \n",
      " 45  state_NM                       3326 non-null   uint8  \n",
      " 46  state_NV                       3326 non-null   uint8  \n",
      " 47  state_NY                       3326 non-null   uint8  \n",
      " 48  state_OH                       3326 non-null   uint8  \n",
      " 49  state_OK                       3326 non-null   uint8  \n",
      " 50  state_OR                       3326 non-null   uint8  \n",
      " 51  state_PA                       3326 non-null   uint8  \n",
      " 52  state_RI                       3326 non-null   uint8  \n",
      " 53  state_SC                       3326 non-null   uint8  \n",
      " 54  state_SD                       3326 non-null   uint8  \n",
      " 55  state_TN                       3326 non-null   uint8  \n",
      " 56  state_TX                       3326 non-null   uint8  \n",
      " 57  state_UT                       3326 non-null   uint8  \n",
      " 58  state_VA                       3326 non-null   uint8  \n",
      " 59  state_VT                       3326 non-null   uint8  \n",
      " 60  state_WA                       3326 non-null   uint8  \n",
      " 61  state_WI                       3326 non-null   uint8  \n",
      " 62  state_WV                       3326 non-null   uint8  \n",
      " 63  state_WY                       3326 non-null   uint8  \n",
      " 64  area code_415                  3326 non-null   uint8  \n",
      " 65  area code_510                  3326 non-null   uint8  \n",
      "dtypes: float64(7), int64(4), uint8(55)\n",
      "memory usage: 490.5 KB\n"
     ]
    }
   ],
   "source": [
    "data.info()"
   ]
  },
  {
   "cell_type": "code",
   "execution_count": 32,
   "metadata": {},
   "outputs": [
    {
     "name": "stdout",
     "output_type": "stream",
     "text": [
      "<class 'pandas.core.frame.DataFrame'>\n",
      "RangeIndex: 1672 entries, 0 to 1671\n",
      "Data columns (total 66 columns):\n",
      " #   Column                         Non-Null Count  Dtype  \n",
      "---  ------                         --------------  -----  \n",
      " 0   number vmail messages          1672 non-null   int64  \n",
      " 1   total day calls                1672 non-null   int64  \n",
      " 2   total day charge               1672 non-null   float64\n",
      " 3   total eve calls                1672 non-null   int64  \n",
      " 4   total eve charge               1672 non-null   float64\n",
      " 5   total night calls              1672 non-null   int64  \n",
      " 6   total night charge             1672 non-null   float64\n",
      " 7   total intl calls               1672 non-null   int64  \n",
      " 8   total intl charge              1672 non-null   float64\n",
      " 9   number customer service calls  1672 non-null   int64  \n",
      " 10  Y_var_encoded                  1672 non-null   uint8  \n",
      " 11  international plan_encoded     1672 non-null   uint8  \n",
      " 12  voice mail plan_encoded        1672 non-null   uint8  \n",
      " 13  total_spent                    1672 non-null   float64\n",
      " 14  state_AL                       1672 non-null   uint8  \n",
      " 15  state_AR                       1672 non-null   uint8  \n",
      " 16  state_AZ                       1672 non-null   uint8  \n",
      " 17  state_CA                       1672 non-null   uint8  \n",
      " 18  state_CO                       1672 non-null   uint8  \n",
      " 19  state_CT                       1672 non-null   uint8  \n",
      " 20  state_DC                       1672 non-null   uint8  \n",
      " 21  state_DE                       1672 non-null   uint8  \n",
      " 22  state_FL                       1672 non-null   uint8  \n",
      " 23  state_GA                       1672 non-null   uint8  \n",
      " 24  state_HI                       1672 non-null   uint8  \n",
      " 25  state_IA                       1672 non-null   uint8  \n",
      " 26  state_ID                       1672 non-null   uint8  \n",
      " 27  state_IL                       1672 non-null   uint8  \n",
      " 28  state_IN                       1672 non-null   uint8  \n",
      " 29  state_KS                       1672 non-null   uint8  \n",
      " 30  state_KY                       1672 non-null   uint8  \n",
      " 31  state_LA                       1672 non-null   uint8  \n",
      " 32  state_MA                       1672 non-null   uint8  \n",
      " 33  state_MD                       1672 non-null   uint8  \n",
      " 34  state_ME                       1672 non-null   uint8  \n",
      " 35  state_MI                       1672 non-null   uint8  \n",
      " 36  state_MN                       1672 non-null   uint8  \n",
      " 37  state_MO                       1672 non-null   uint8  \n",
      " 38  state_MS                       1672 non-null   uint8  \n",
      " 39  state_MT                       1672 non-null   uint8  \n",
      " 40  state_NC                       1672 non-null   uint8  \n",
      " 41  state_ND                       1672 non-null   uint8  \n",
      " 42  state_NE                       1672 non-null   uint8  \n",
      " 43  state_NH                       1672 non-null   uint8  \n",
      " 44  state_NJ                       1672 non-null   uint8  \n",
      " 45  state_NM                       1672 non-null   uint8  \n",
      " 46  state_NV                       1672 non-null   uint8  \n",
      " 47  state_NY                       1672 non-null   uint8  \n",
      " 48  state_OH                       1672 non-null   uint8  \n",
      " 49  state_OK                       1672 non-null   uint8  \n",
      " 50  state_OR                       1672 non-null   uint8  \n",
      " 51  state_PA                       1672 non-null   uint8  \n",
      " 52  state_RI                       1672 non-null   uint8  \n",
      " 53  state_SC                       1672 non-null   uint8  \n",
      " 54  state_SD                       1672 non-null   uint8  \n",
      " 55  state_TN                       1672 non-null   uint8  \n",
      " 56  state_TX                       1672 non-null   uint8  \n",
      " 57  state_UT                       1672 non-null   uint8  \n",
      " 58  state_VA                       1672 non-null   uint8  \n",
      " 59  state_VT                       1672 non-null   uint8  \n",
      " 60  state_WA                       1672 non-null   uint8  \n",
      " 61  state_WI                       1672 non-null   uint8  \n",
      " 62  state_WV                       1672 non-null   uint8  \n",
      " 63  state_WY                       1672 non-null   uint8  \n",
      " 64  area code_415                  1672 non-null   uint8  \n",
      " 65  area code_510                  1672 non-null   uint8  \n",
      "dtypes: float64(5), int64(6), uint8(55)\n",
      "memory usage: 233.6 KB\n"
     ]
    }
   ],
   "source": [
    "test.info()"
   ]
  },
  {
   "cell_type": "code",
   "execution_count": 33,
   "metadata": {},
   "outputs": [],
   "source": [
    "import statsmodels.api as sm "
   ]
  },
  {
   "cell_type": "code",
   "execution_count": 34,
   "metadata": {},
   "outputs": [
    {
     "data": {
      "text/plain": [
       "Index(['number vmail messages', 'total day calls', 'total day charge',\n",
       "       'total eve calls', 'total eve charge', 'total night calls',\n",
       "       'total night charge', 'total intl calls', 'total intl charge',\n",
       "       'number customer service calls', 'Y_var_encoded',\n",
       "       'international plan_encoded', 'voice mail plan_encoded', 'total_spent',\n",
       "       'state_AL', 'state_AR', 'state_AZ', 'state_CA', 'state_CO', 'state_CT',\n",
       "       'state_DC', 'state_DE', 'state_FL', 'state_GA', 'state_HI', 'state_IA',\n",
       "       'state_ID', 'state_IL', 'state_IN', 'state_KS', 'state_KY', 'state_LA',\n",
       "       'state_MA', 'state_MD', 'state_ME', 'state_MI', 'state_MN', 'state_MO',\n",
       "       'state_MS', 'state_MT', 'state_NC', 'state_ND', 'state_NE', 'state_NH',\n",
       "       'state_NJ', 'state_NM', 'state_NV', 'state_NY', 'state_OH', 'state_OK',\n",
       "       'state_OR', 'state_PA', 'state_RI', 'state_SC', 'state_SD', 'state_TN',\n",
       "       'state_TX', 'state_UT', 'state_VA', 'state_VT', 'state_WA', 'state_WI',\n",
       "       'state_WV', 'state_WY', 'area code_415', 'area code_510'],\n",
       "      dtype='object')"
      ]
     },
     "execution_count": 34,
     "metadata": {},
     "output_type": "execute_result"
    }
   ],
   "source": [
    "data.columns"
   ]
  },
  {
   "cell_type": "code",
   "execution_count": 35,
   "metadata": {},
   "outputs": [],
   "source": [
    "Xtrain = data.drop(['Y_var_encoded'],axis = 1)\n",
    "Xtest = test.drop(['Y_var_encoded'],axis = 1)\n",
    "\n",
    "ytrain = data[['Y_var_encoded']]\n",
    "ytest = test[['Y_var_encoded']]\n",
    "Xtrain = sm.add_constant(Xtrain)\n",
    "Xtest = sm.add_constant(Xtest)"
   ]
  },
  {
   "cell_type": "code",
   "execution_count": 36,
   "metadata": {},
   "outputs": [],
   "source": [
    "log_reg = sm.GLM(ytrain,Xtrain,family = sm.families.Binomial())"
   ]
  },
  {
   "cell_type": "code",
   "execution_count": 37,
   "metadata": {},
   "outputs": [
    {
     "name": "stdout",
     "output_type": "stream",
     "text": [
      "                 Generalized Linear Model Regression Results                  \n",
      "==============================================================================\n",
      "Dep. Variable:          Y_var_encoded   No. Observations:                 3326\n",
      "Model:                            GLM   Df Residuals:                     3261\n",
      "Model Family:                Binomial   Df Model:                           64\n",
      "Link Function:                  logit   Scale:                          1.0000\n",
      "Method:                          IRLS   Log-Likelihood:                -1032.2\n",
      "Date:                Mon, 14 Sep 2020   Deviance:                       2064.5\n",
      "Time:                        14:26:23   Pearson chi2:                 3.38e+03\n",
      "No. Iterations:                   100                                         \n",
      "Covariance Type:            nonrobust                                         \n",
      "=================================================================================================\n",
      "                                    coef    std err          z      P>|z|      [0.025      0.975]\n",
      "-------------------------------------------------------------------------------------------------\n",
      "const                            -9.2541      0.925    -10.002      0.000     -11.068      -7.441\n",
      "number vmail messages             0.0362      0.018      1.958      0.050   -2.78e-05       0.072\n",
      "total day calls                   0.0049      0.003      1.699      0.089      -0.001       0.010\n",
      "total day charge                 -0.0269      0.017     -1.545      0.122      -0.061       0.007\n",
      "total eve calls                   0.0009      0.003      0.318      0.751      -0.005       0.007\n",
      "total eve charge                 -0.0161      0.019     -0.839      0.402      -0.054       0.022\n",
      "total night calls                -0.0003      0.003     -0.095      0.925      -0.006       0.005\n",
      "total night charge               -0.0278      0.026     -1.082      0.279      -0.078       0.023\n",
      "total intl calls                 -0.0715      0.025     -2.838      0.005      -0.121      -0.022\n",
      "total intl charge                 0.1756      0.062      2.815      0.005       0.053       0.298\n",
      "number customer service calls     0.5579      0.041     13.579      0.000       0.477       0.638\n",
      "international plan_encoded        2.5525      0.155     16.460      0.000       2.249       2.856\n",
      "voice mail plan_encoded          -2.0722      0.588     -3.523      0.000      -3.225      -0.919\n",
      "total_spent                       0.1048      0.017      6.119      0.000       0.071       0.138\n",
      "state_AL                          0.1041      0.703      0.148      0.882      -1.274       1.483\n",
      "state_AR                          0.6928      0.696      0.995      0.320      -0.671       2.057\n",
      "state_AZ                         -0.2339      0.802     -0.292      0.771      -1.806       1.338\n",
      "state_CA                          1.5005      0.733      2.046      0.041       0.063       2.938\n",
      "state_CO                          0.3451      0.713      0.484      0.629      -1.053       1.743\n",
      "state_CT                          0.8236      0.667      1.235      0.217      -0.484       2.131\n",
      "state_DC                          0.3702      0.762      0.486      0.627      -1.124       1.864\n",
      "state_DE                          0.5334      0.689      0.774      0.439      -0.817       1.884\n",
      "state_FL                          0.2288      0.713      0.321      0.748      -1.168       1.626\n",
      "state_GA                          0.3173      0.730      0.434      0.664      -1.114       1.749\n",
      "state_HI                         -0.2110      0.803     -0.263      0.793      -1.785       1.363\n",
      "state_IA                         -0.0971      0.860     -0.113      0.910      -1.783       1.589\n",
      "state_ID                          0.5396      0.694      0.777      0.437      -0.821       1.900\n",
      "state_IL                         -0.7263      0.794     -0.914      0.361      -2.283       0.831\n",
      "state_IN                          0.1117      0.702      0.159      0.874      -1.264       1.488\n",
      "state_KS                          0.7509      0.677      1.110      0.267      -0.575       2.077\n",
      "state_KY                          0.4720      0.715      0.660      0.509      -0.929       1.873\n",
      "state_LA                          0.2601      0.788      0.330      0.741      -1.283       1.804\n",
      "state_MA                          0.7983      0.693      1.153      0.249      -0.559       2.156\n",
      "state_MD                          0.7938      0.662      1.200      0.230      -0.503       2.090\n",
      "state_ME                          0.9987      0.674      1.482      0.138      -0.322       2.320\n",
      "state_MI                          1.0455      0.658      1.590      0.112      -0.243       2.334\n",
      "state_MN                          0.8450      0.661      1.278      0.201      -0.451       2.141\n",
      "state_MO                          0.4627      0.709      0.652      0.514      -0.928       1.853\n",
      "state_MS                          1.1352      0.671      1.691      0.091      -0.180       2.451\n",
      "state_MT                          1.5863      0.659      2.407      0.016       0.294       2.878\n",
      "state_NC                          0.2136      0.706      0.302      0.762      -1.171       1.598\n",
      "state_ND                         -0.0429      0.737     -0.058      0.954      -1.488       1.402\n",
      "state_NE                          0.2517      0.733      0.343      0.731      -1.186       1.689\n",
      "state_NH                          0.8594      0.718      1.197      0.231      -0.547       2.266\n",
      "state_NJ                          1.3685      0.650      2.106      0.035       0.095       2.642\n",
      "state_NM                          0.2069      0.739      0.280      0.779      -1.242       1.655\n",
      "state_NV                          0.9128      0.672      1.359      0.174      -0.404       2.229\n",
      "state_NY                          1.0657      0.658      1.620      0.105      -0.224       2.355\n",
      "state_OH                          0.3929      0.697      0.564      0.573      -0.974       1.759\n",
      "state_OK                          0.6035      0.703      0.858      0.391      -0.775       1.982\n",
      "state_OR                          0.5814      0.675      0.861      0.389      -0.742       1.904\n",
      "state_PA                          0.8015      0.732      1.094      0.274      -0.634       2.237\n",
      "state_RI                         -0.2905      0.762     -0.381      0.703      -1.783       1.202\n",
      "state_SC                          1.4952      0.681      2.194      0.028       0.160       2.831\n",
      "state_SD                          0.4963      0.711      0.699      0.485      -0.896       1.889\n",
      "state_TN                         -0.1329      0.778     -0.171      0.864      -1.659       1.393\n",
      "state_TX                          1.2694      0.654      1.941      0.052      -0.013       2.551\n",
      "state_UT                          0.7063      0.692      1.020      0.308      -0.650       2.063\n",
      "state_VA                         -0.8433      0.781     -1.080      0.280      -2.374       0.688\n",
      "state_VT                          0.0926      0.709      0.131      0.896      -1.297       1.482\n",
      "state_WA                          1.1060      0.669      1.653      0.098      -0.206       2.418\n",
      "state_WI                         -0.1225      0.737     -0.166      0.868      -1.568       1.323\n",
      "state_WV                          0.4889      0.667      0.733      0.463      -0.818       1.796\n",
      "state_WY                         -0.0715      0.705     -0.101      0.919      -1.453       1.310\n",
      "area code_415                    -0.1126      0.142     -0.794      0.427      -0.391       0.165\n",
      "area code_510                    -0.1044      0.163     -0.641      0.522      -0.424       0.215\n",
      "=================================================================================================\n"
     ]
    }
   ],
   "source": [
    "print(log_reg.fit().summary())"
   ]
  },
  {
   "cell_type": "code",
   "execution_count": 38,
   "metadata": {},
   "outputs": [],
   "source": [
    "def summary(X):\n",
    "    return sm.GLM(ytrain,X,family = sm.families.Binomial()).fit()"
   ]
  },
  {
   "cell_type": "code",
   "execution_count": 39,
   "metadata": {},
   "outputs": [],
   "source": [
    "def drop(k):\n",
    "    Xtrain.drop(Xtrain.columns[k],inplace = True,axis= 1)\n",
    "    Xtest.drop(Xtest.columns[k],inplace = True,axis= 1)\n",
    "    return summary(Xtrain)"
   ]
  },
  {
   "cell_type": "code",
   "execution_count": 40,
   "metadata": {},
   "outputs": [],
   "source": [
    "lr = summary(Xtrain)\n",
    "while max(lr.pvalues) > 0.05:\n",
    "    k = np.where(lr.pvalues == max(lr.pvalues))[0][0]\n",
    "    lr = drop(k)"
   ]
  },
  {
   "cell_type": "code",
   "execution_count": 41,
   "metadata": {},
   "outputs": [
    {
     "name": "stdout",
     "output_type": "stream",
     "text": [
      "                 Generalized Linear Model Regression Results                  \n",
      "==============================================================================\n",
      "Dep. Variable:          Y_var_encoded   No. Observations:                 3326\n",
      "Model:                            GLM   Df Residuals:                     3312\n",
      "Model Family:                Binomial   Df Model:                           13\n",
      "Link Function:                  logit   Scale:                          1.0000\n",
      "Method:                          IRLS   Log-Likelihood:                -1056.0\n",
      "Date:                Mon, 14 Sep 2020   Deviance:                       2112.1\n",
      "Time:                        14:26:47   Pearson chi2:                 3.30e+03\n",
      "No. Iterations:                     6                                         \n",
      "Covariance Type:            nonrobust                                         \n",
      "=================================================================================================\n",
      "                                    coef    std err          z      P>|z|      [0.025      0.975]\n",
      "-------------------------------------------------------------------------------------------------\n",
      "const                            -8.0924      0.468    -17.300      0.000      -9.009      -7.176\n",
      "total intl calls                 -0.0743      0.025     -2.997      0.003      -0.123      -0.026\n",
      "total intl charge                 0.2141      0.076      2.805      0.005       0.065       0.364\n",
      "number customer service calls     0.5418      0.040     13.609      0.000       0.464       0.620\n",
      "international plan_encoded        2.5019      0.150     16.682      0.000       2.208       2.796\n",
      "voice mail plan_encoded          -0.9730      0.146     -6.653      0.000      -1.260      -0.686\n",
      "total_spent                       0.0781      0.006     13.327      0.000       0.067       0.090\n",
      "state_CA                          0.9837      0.469      2.100      0.036       0.065       1.902\n",
      "state_IL                         -1.1617      0.549     -2.118      0.034      -2.237      -0.087\n",
      "state_MT                          1.0315      0.334      3.088      0.002       0.377       1.686\n",
      "state_NJ                          0.8695      0.314      2.767      0.006       0.254       1.486\n",
      "state_SC                          1.0279      0.369      2.789      0.005       0.306       1.750\n",
      "state_TX                          0.7720      0.323      2.388      0.017       0.138       1.406\n",
      "state_VA                         -1.2715      0.535     -2.378      0.017      -2.319      -0.223\n",
      "=================================================================================================\n"
     ]
    }
   ],
   "source": [
    "print(lr.summary())"
   ]
  },
  {
   "cell_type": "markdown",
   "metadata": {},
   "source": [
    "## Model"
   ]
  },
  {
   "cell_type": "code",
   "execution_count": 42,
   "metadata": {},
   "outputs": [],
   "source": [
    "from sklearn.linear_model import LogisticRegression\n",
    "from sklearn.metrics import roc_curve\n",
    "from sklearn.metrics import classification_report,confusion_matrix"
   ]
  },
  {
   "cell_type": "code",
   "execution_count": 43,
   "metadata": {},
   "outputs": [],
   "source": [
    "reg = LogisticRegression(max_iter = 300)\n",
    "Xtrain.drop(['const'],axis = 1,inplace = True)"
   ]
  },
  {
   "cell_type": "code",
   "execution_count": 44,
   "metadata": {},
   "outputs": [],
   "source": [
    "Xtest.drop(['const'],axis = 1,inplace = True)"
   ]
  },
  {
   "cell_type": "code",
   "execution_count": 45,
   "metadata": {},
   "outputs": [
    {
     "name": "stderr",
     "output_type": "stream",
     "text": [
      "C:\\Users\\lenovo\\anaconda3\\lib\\site-packages\\sklearn\\utils\\validation.py:73: DataConversionWarning: A column-vector y was passed when a 1d array was expected. Please change the shape of y to (n_samples, ), for example using ravel().\n",
      "  return f(**kwargs)\n"
     ]
    },
    {
     "data": {
      "text/plain": [
       "LogisticRegression(max_iter=300)"
      ]
     },
     "execution_count": 45,
     "metadata": {},
     "output_type": "execute_result"
    }
   ],
   "source": [
    "reg.fit(Xtrain,ytrain)"
   ]
  },
  {
   "cell_type": "code",
   "execution_count": 46,
   "metadata": {},
   "outputs": [
    {
     "data": {
      "text/plain": [
       "array([[-0.07354632,  0.21225514,  0.53584918,  2.4228161 , -0.93941266,\n",
       "         0.07740528,  0.79674432, -0.89654793,  0.89880303,  0.78003593,\n",
       "         0.88272029,  0.67835177, -1.00992528]])"
      ]
     },
     "execution_count": 46,
     "metadata": {},
     "output_type": "execute_result"
    }
   ],
   "source": [
    "reg.coef_"
   ]
  },
  {
   "cell_type": "code",
   "execution_count": 47,
   "metadata": {},
   "outputs": [
    {
     "data": {
      "text/plain": [
       "array([-8.01338128])"
      ]
     },
     "execution_count": 47,
     "metadata": {},
     "output_type": "execute_result"
    }
   ],
   "source": [
    "reg.intercept_"
   ]
  },
  {
   "cell_type": "code",
   "execution_count": 48,
   "metadata": {},
   "outputs": [],
   "source": [
    "y_train_pred = reg.predict_proba(Xtrain)"
   ]
  },
  {
   "cell_type": "code",
   "execution_count": 49,
   "metadata": {},
   "outputs": [],
   "source": [
    "from sklearn.metrics import roc_auc_score"
   ]
  },
  {
   "cell_type": "code",
   "execution_count": 50,
   "metadata": {},
   "outputs": [
    {
     "data": {
      "text/plain": [
       "0.8398049917863388"
      ]
     },
     "execution_count": 50,
     "metadata": {},
     "output_type": "execute_result"
    }
   ],
   "source": [
    "roc_auc_score(ytrain, y_train_pred[:,1]) #testing score for train data set"
   ]
  },
  {
   "cell_type": "code",
   "execution_count": 51,
   "metadata": {},
   "outputs": [],
   "source": [
    "y_test_pred_proba = reg.predict_proba(Xtest)\n",
    "y_pred_lr = reg.predict(Xtest)"
   ]
  },
  {
   "cell_type": "code",
   "execution_count": 52,
   "metadata": {},
   "outputs": [
    {
     "data": {
      "text/plain": [
       "0.8321199953445064"
      ]
     },
     "execution_count": 52,
     "metadata": {},
     "output_type": "execute_result"
    }
   ],
   "source": [
    "roc_auc_score(ytest, y_test_pred_proba[:,1]) #testing score for test data set"
   ]
  },
  {
   "cell_type": "code",
   "execution_count": 53,
   "metadata": {},
   "outputs": [
    {
     "name": "stdout",
     "output_type": "stream",
     "text": [
      "              precision    recall  f1-score   support\n",
      "\n",
      "           0       0.88      0.96      0.92      1432\n",
      "           1       0.50      0.23      0.32       240\n",
      "\n",
      "    accuracy                           0.86      1672\n",
      "   macro avg       0.69      0.60      0.62      1672\n",
      "weighted avg       0.83      0.86      0.83      1672\n",
      "\n",
      "[[1376   56]\n",
      " [ 184   56]]\n"
     ]
    }
   ],
   "source": [
    "print(classification_report(ytest,y_pred_lr))\n",
    "print(confusion_matrix(ytest,y_pred_lr))"
   ]
  },
  {
   "cell_type": "code",
   "execution_count": 54,
   "metadata": {},
   "outputs": [],
   "source": [
    "ns_probs = [0 for _ in range(len(ytest))]\n",
    "ns_auc = roc_auc_score(ytest, ns_probs)\n",
    "lr_auc = roc_auc_score(ytest, y_test_pred_proba[:,1])\n",
    "ns_fpr, ns_tpr, _ = roc_curve(ytest, ns_probs)\n",
    "lr_fpr, lr_tpr, _ = roc_curve(ytest, y_test_pred_proba[:,1])"
   ]
  },
  {
   "cell_type": "code",
   "execution_count": 55,
   "metadata": {},
   "outputs": [
    {
     "data": {
      "image/png": "[encoded data removed]",
      "text/plain": [
       "<Figure size 432x288 with 1 Axes>"
      ]
     },
     "metadata": {
      "needs_background": "light"
     },
     "output_type": "display_data"
    }
   ],
   "source": [
    "plt.plot(ns_fpr, ns_tpr, linestyle='--', label='Random')\n",
    "plt.plot(lr_fpr, lr_tpr, marker='.', label='Logistic')\n",
    "plt.xlabel('False Positive Rate')\n",
    "plt.ylabel('True Positive Rate')\n",
    "plt.title('ROC Curve')\n",
    "# show the legend\n",
    "plt.legend()\n",
    "# show the plot\n",
    "plt.show()"
   ]
  },
  {
   "cell_type": "code",
   "execution_count": 56,
   "metadata": {},
   "outputs": [],
   "source": [
    "from sklearn.tree import DecisionTreeClassifier"
   ]
  },
  {
   "cell_type": "code",
   "execution_count": 57,
   "metadata": {},
   "outputs": [],
   "source": [
    "reg_dt = DecisionTreeClassifier()"
   ]
  },
  {
   "cell_type": "code",
   "execution_count": 58,
   "metadata": {},
   "outputs": [
    {
     "data": {
      "text/plain": [
       "DecisionTreeClassifier()"
      ]
     },
     "execution_count": 58,
     "metadata": {},
     "output_type": "execute_result"
    }
   ],
   "source": [
    "reg_dt.fit(Xtrain,ytrain)"
   ]
  },
  {
   "cell_type": "code",
   "execution_count": 59,
   "metadata": {},
   "outputs": [],
   "source": [
    "y_pred_dt_proba = reg_dt.predict_proba(Xtest)\n",
    "y_pred_dt = reg_dt.predict(Xtest)"
   ]
  },
  {
   "cell_type": "code",
   "execution_count": 60,
   "metadata": {},
   "outputs": [
    {
     "data": {
      "text/plain": [
       "0.9005586592178771"
      ]
     },
     "execution_count": 60,
     "metadata": {},
     "output_type": "execute_result"
    }
   ],
   "source": [
    "roc_auc_score(ytest, y_pred_dt_proba[:,1])"
   ]
  },
  {
   "cell_type": "code",
   "execution_count": 61,
   "metadata": {},
   "outputs": [
    {
     "name": "stdout",
     "output_type": "stream",
     "text": [
      "              precision    recall  f1-score   support\n",
      "\n",
      "           0       0.97      0.95      0.96      1432\n",
      "           1       0.74      0.85      0.79       240\n",
      "\n",
      "    accuracy                           0.94      1672\n",
      "   macro avg       0.86      0.90      0.88      1672\n",
      "weighted avg       0.94      0.94      0.94      1672\n",
      "\n",
      "[[1362   70]\n",
      " [  36  204]]\n"
     ]
    }
   ],
   "source": [
    "print(classification_report(ytest,y_pred_dt))\n",
    "print(confusion_matrix(ytest,y_pred_dt))"
   ]
  },
  {
   "cell_type": "markdown",
   "metadata": {},
   "source": [
    "#### From the above 3 models (Logistic Regression, Decision Tree and Random Forest), we can see that Random forest is best classifier for this data as it has better AUC score, F1 Score and accuracy than the other models."
   ]
  },
  {
   "cell_type": "code",
   "execution_count": 62,
   "metadata": {},
   "outputs": [],
   "source": [
    "from sklearn.ensemble import RandomForestClassifier"
   ]
  },
  {
   "cell_type": "code",
   "execution_count": 63,
   "metadata": {},
   "outputs": [],
   "source": [
    "reg_rf = RandomForestClassifier()"
   ]
  },
  {
   "cell_type": "code",
   "execution_count": 64,
   "metadata": {},
   "outputs": [
    {
     "name": "stderr",
     "output_type": "stream",
     "text": [
      "<ipython-input-64-7e703007df1a>:1: DataConversionWarning: A column-vector y was passed when a 1d array was expected. Please change the shape of y to (n_samples,), for example using ravel().\n",
      "  reg_rf.fit(Xtrain,ytrain)\n"
     ]
    },
    {
     "data": {
      "text/plain": [
       "RandomForestClassifier()"
      ]
     },
     "execution_count": 64,
     "metadata": {},
     "output_type": "execute_result"
    }
   ],
   "source": [
    "reg_rf.fit(Xtrain,ytrain)"
   ]
  },
  {
   "cell_type": "code",
   "execution_count": 65,
   "metadata": {},
   "outputs": [],
   "source": [
    "y_pred_rf_proba = reg_rf.predict_proba(Xtest)\n",
    "y_pred_rf = reg_rf.predict(Xtest)"
   ]
  },
  {
   "cell_type": "code",
   "execution_count": 66,
   "metadata": {},
   "outputs": [
    {
     "data": {
      "text/plain": [
       "0.922755179236499"
      ]
     },
     "execution_count": 66,
     "metadata": {},
     "output_type": "execute_result"
    }
   ],
   "source": [
    "roc_auc_score(ytest, y_pred_rf_proba[:,1])"
   ]
  },
  {
   "cell_type": "code",
   "execution_count": 67,
   "metadata": {},
   "outputs": [
    {
     "name": "stdout",
     "output_type": "stream",
     "text": [
      "              precision    recall  f1-score   support\n",
      "\n",
      "           0       0.98      0.99      0.98      1432\n",
      "           1       0.94      0.85      0.89       240\n",
      "\n",
      "    accuracy                           0.97      1672\n",
      "   macro avg       0.96      0.92      0.94      1672\n",
      "weighted avg       0.97      0.97      0.97      1672\n",
      "\n",
      "[[1418   14]\n",
      " [  36  204]]\n"
     ]
    }
   ],
   "source": [
    "print(classification_report(ytest,y_pred_rf))\n",
    "print(confusion_matrix(ytest,y_pred_rf))"
   ]
  },
  {
   "cell_type": "code",
   "execution_count": 68,
   "metadata": {
    "scrolled": true
   },
   "outputs": [
    {
     "data": {
      "image/png": "[encoded data removed]",
      "text/plain": [
       "<Figure size 432x288 with 1 Axes>"
      ]
     },
     "metadata": {
      "needs_background": "light"
     },
     "output_type": "display_data"
    }
   ],
   "source": [
    "import scikitplot as skplt\n",
    "skplt.metrics.plot_cumulative_gain(ytest, y_test_pred_proba)\n",
    "plt.show()"
   ]
  },
  {
   "cell_type": "code",
   "execution_count": 69,
   "metadata": {},
   "outputs": [
    {
     "name": "stderr",
     "output_type": "stream",
     "text": [
      "<ipython-input-69-a40c317de736>:1: SettingWithCopyWarning: \n",
      "A value is trying to be set on a copy of a slice from a DataFrame.\n",
      "Try using .loc[row_indexer,col_indexer] = value instead\n",
      "\n",
      "See the caveats in the documentation: https://pandas.pydata.org/pandas-docs/stable/user_guide/indexing.html#returning-a-view-versus-a-copy\n",
      "  ytest['prob']=y_test_pred_proba[:,1]\n"
     ]
    }
   ],
   "source": [
    "ytest['prob']=y_test_pred_proba[:,1]"
   ]
  },
  {
   "cell_type": "code",
   "execution_count": 70,
   "metadata": {},
   "outputs": [],
   "source": [
    "def ks(data=None,target=None, prob=None):\n",
    "    data['target0'] = 1 - data[target]\n",
    "    data['bucket'] = pd.qcut(data[prob], 10)\n",
    "    grouped = data.groupby('bucket', as_index = False)\n",
    "    kstable = pd.DataFrame()\n",
    "    kstable['min_prob'] = grouped.min()[prob]\n",
    "    kstable['max_prob'] = grouped.max()[prob]\n",
    "    kstable['events']   = grouped.sum()[target]\n",
    "    kstable['nonevents'] = grouped.sum()['target0']\n",
    "    kstable = kstable.sort_values(by=\"min_prob\", ascending=False).reset_index(drop = True)\n",
    "    kstable['event_rate'] = (kstable.events / data[target].sum()).apply('{0:.2%}'.format)\n",
    "    kstable['nonevent_rate'] = (kstable.nonevents / data['target0'].sum()).apply('{0:.2%}'.format)\n",
    "    kstable['cum_eventrate']=(kstable.events / data[target].sum()).cumsum()\n",
    "    kstable['cum_noneventrate']=(kstable.nonevents / data['target0'].sum()).cumsum()\n",
    "    kstable['KS'] = np.round(kstable['cum_eventrate']-kstable['cum_noneventrate'], 3) * 100\n",
    "\n",
    "    #Formating\n",
    "    kstable['cum_eventrate']= kstable['cum_eventrate'].apply('{0:.2%}'.format)\n",
    "    kstable['cum_noneventrate']= kstable['cum_noneventrate'].apply('{0:.2%}'.format)\n",
    "    kstable.index = range(1,11)\n",
    "    kstable.index.rename('Decile', inplace=True)\n",
    "    pd.set_option('display.max_columns', 9)\n",
    "    print(kstable)\n",
    "    \n",
    "    #Display KS\n",
    "    from colorama import Fore\n",
    "    print(Fore.RED + \"KS is \" + str(max(kstable['KS']))+\"%\"+ \" at decile \" + str((kstable.index[kstable['KS']==max(kstable['KS'])][0])))\n",
    "    return(kstable)\n",
    "\n",
    "# Reference: https://www.listendata.com/2019/07/KS-Statistics-Python.html"
   ]
  },
  {
   "cell_type": "code",
   "execution_count": 71,
   "metadata": {},
   "outputs": [
    {
     "name": "stdout",
     "output_type": "stream",
     "text": [
      "        min_prob  max_prob  events  nonevents event_rate nonevent_rate  \\\n",
      "Decile                                                                   \n",
      "1       0.409126  0.991316      79         89     32.92%         6.22%   \n",
      "2       0.246074  0.408829      62        105     25.83%         7.33%   \n",
      "3       0.171454  0.245108      45        122     18.75%         8.52%   \n",
      "4       0.119890  0.171298      23        144      9.58%        10.06%   \n",
      "5       0.086075  0.119599       4        163      1.67%        11.38%   \n",
      "6       0.066128  0.086055       9        158      3.75%        11.03%   \n",
      "7       0.049903  0.066039       7        160      2.92%        11.17%   \n",
      "8       0.033755  0.049745       6        161      2.50%        11.24%   \n",
      "9       0.020584  0.033749       3        164      1.25%        11.45%   \n",
      "10      0.001757  0.020500       2        166      0.83%        11.59%   \n",
      "\n",
      "       cum_eventrate cum_noneventrate    KS  \n",
      "Decile                                       \n",
      "1             32.92%            6.22%  26.7  \n",
      "2             58.75%           13.55%  45.2  \n",
      "3             77.50%           22.07%  55.4  \n",
      "4             87.08%           32.12%  55.0  \n",
      "5             88.75%           43.51%  45.2  \n",
      "6             92.50%           54.54%  38.0  \n",
      "7             95.42%           65.71%  29.7  \n",
      "8             97.92%           76.96%  21.0  \n",
      "9             99.17%           88.41%  10.8  \n",
      "10           100.00%          100.00%   0.0  \n",
      "\u001b[31mKS is 55.400000000000006% at decile 3\n"
     ]
    },
    {
     "name": "stderr",
     "output_type": "stream",
     "text": [
      "<ipython-input-70-aa9fdd7e5302>:2: SettingWithCopyWarning: \n",
      "A value is trying to be set on a copy of a slice from a DataFrame.\n",
      "Try using .loc[row_indexer,col_indexer] = value instead\n",
      "\n",
      "See the caveats in the documentation: https://pandas.pydata.org/pandas-docs/stable/user_guide/indexing.html#returning-a-view-versus-a-copy\n",
      "  data['target0'] = 1 - data[target]\n",
      "<ipython-input-70-aa9fdd7e5302>:3: SettingWithCopyWarning: \n",
      "A value is trying to be set on a copy of a slice from a DataFrame.\n",
      "Try using .loc[row_indexer,col_indexer] = value instead\n",
      "\n",
      "See the caveats in the documentation: https://pandas.pydata.org/pandas-docs/stable/user_guide/indexing.html#returning-a-view-versus-a-copy\n",
      "  data['bucket'] = pd.qcut(data[prob], 10)\n"
     ]
    }
   ],
   "source": [
    "mydf = ks(data=ytest,target=\"Y_var_encoded\", prob=\"prob\")"
   ]
  },
  {
   "cell_type": "markdown",
   "metadata": {},
   "source": [
    "#### From the above KS Table, we can say that in 30% of the total customers, there are 77.5% customers who are leaving.\n"
   ]
  },
  {
   "cell_type": "markdown",
   "metadata": {},
   "source": [
    "## Question 3\n",
    "### If we want to predict the percentage or number of customers who are leaving than Random Forest is best model. If we want to predict the customers who are in high risk of leaving than we would prefer Logistic Regression as in Decision Tree and Random forest the probability is either 0 or 100% which hinder the probability of customers who are at high risk of leaving. Also, KS statistics is giving in-depth knowledge about marketing strategies."
   ]
  },
  {
   "cell_type": "markdown",
   "metadata": {},
   "source": [
    "## Question 4"
   ]
  },
  {
   "cell_type": "code",
   "execution_count": 72,
   "metadata": {},
   "outputs": [],
   "source": [
    "features_pvalues = lr.pvalues.reset_index()\n",
    "features_pvalues.columns = ['features', 'p-value']\n",
    "features_pvalues.drop(0, inplace=True)"
   ]
  },
  {
   "cell_type": "code",
   "execution_count": 73,
   "metadata": {},
   "outputs": [
    {
     "data": {
      "text/html": [
       "<div>\n",
       "<style scoped>\n",
       "    .dataframe tbody tr th:only-of-type {\n",
       "        vertical-align: middle;\n",
       "    }\n",
       "\n",
       "    .dataframe tbody tr th {\n",
       "        vertical-align: top;\n",
       "    }\n",
       "\n",
       "    .dataframe thead th {\n",
       "        text-align: right;\n",
       "    }\n",
       "</style>\n",
       "<table border=\"1\" class=\"dataframe\">\n",
       "  <thead>\n",
       "    <tr style=\"text-align: right;\">\n",
       "      <th></th>\n",
       "      <th>features</th>\n",
       "      <th>p-value</th>\n",
       "    </tr>\n",
       "  </thead>\n",
       "  <tbody>\n",
       "    <tr>\n",
       "      <th>4</th>\n",
       "      <td>international plan_encoded</td>\n",
       "      <td>1.761692e-62</td>\n",
       "    </tr>\n",
       "    <tr>\n",
       "      <th>3</th>\n",
       "      <td>number customer service calls</td>\n",
       "      <td>3.561651e-42</td>\n",
       "    </tr>\n",
       "    <tr>\n",
       "      <th>6</th>\n",
       "      <td>total_spent</td>\n",
       "      <td>1.613082e-40</td>\n",
       "    </tr>\n",
       "    <tr>\n",
       "      <th>5</th>\n",
       "      <td>voice mail plan_encoded</td>\n",
       "      <td>2.877762e-11</td>\n",
       "    </tr>\n",
       "    <tr>\n",
       "      <th>9</th>\n",
       "      <td>state_MT</td>\n",
       "      <td>2.015393e-03</td>\n",
       "    </tr>\n",
       "    <tr>\n",
       "      <th>1</th>\n",
       "      <td>total intl calls</td>\n",
       "      <td>2.730267e-03</td>\n",
       "    </tr>\n",
       "    <tr>\n",
       "      <th>2</th>\n",
       "      <td>total intl charge</td>\n",
       "      <td>5.034644e-03</td>\n",
       "    </tr>\n",
       "    <tr>\n",
       "      <th>11</th>\n",
       "      <td>state_SC</td>\n",
       "      <td>5.287057e-03</td>\n",
       "    </tr>\n",
       "    <tr>\n",
       "      <th>10</th>\n",
       "      <td>state_NJ</td>\n",
       "      <td>5.660326e-03</td>\n",
       "    </tr>\n",
       "    <tr>\n",
       "      <th>12</th>\n",
       "      <td>state_TX</td>\n",
       "      <td>1.693584e-02</td>\n",
       "    </tr>\n",
       "    <tr>\n",
       "      <th>13</th>\n",
       "      <td>state_VA</td>\n",
       "      <td>1.741249e-02</td>\n",
       "    </tr>\n",
       "    <tr>\n",
       "      <th>8</th>\n",
       "      <td>state_IL</td>\n",
       "      <td>3.417405e-02</td>\n",
       "    </tr>\n",
       "    <tr>\n",
       "      <th>7</th>\n",
       "      <td>state_CA</td>\n",
       "      <td>3.576923e-02</td>\n",
       "    </tr>\n",
       "  </tbody>\n",
       "</table>\n",
       "</div>"
      ],
      "text/plain": [
       "                         features       p-value\n",
       "4      international plan_encoded  1.761692e-62\n",
       "3   number customer service calls  3.561651e-42\n",
       "6                     total_spent  1.613082e-40\n",
       "5         voice mail plan_encoded  2.877762e-11\n",
       "9                        state_MT  2.015393e-03\n",
       "1                total intl calls  2.730267e-03\n",
       "2               total intl charge  5.034644e-03\n",
       "11                       state_SC  5.287057e-03\n",
       "10                       state_NJ  5.660326e-03\n",
       "12                       state_TX  1.693584e-02\n",
       "13                       state_VA  1.741249e-02\n",
       "8                        state_IL  3.417405e-02\n",
       "7                        state_CA  3.576923e-02"
      ]
     },
     "execution_count": 73,
     "metadata": {},
     "output_type": "execute_result"
    }
   ],
   "source": [
    "features_pvalues.sort_values(by=['p-value'])"
   ]
  },
  {
   "cell_type": "markdown",
   "metadata": {},
   "source": [
    "#### Above table shows the leading indicators of customer churn with rank in the order of importance"
   ]
  },
  {
   "cell_type": "markdown",
   "metadata": {},
   "source": [
    "## Question 5\n",
    "### If the probability of the customer churning is greater than 30% than they are at high risk of leaving because steepness of ROC curve reduces at this probability and If the probability of the customer churning is less than 20% than they are at low risk of leaving."
   ]
  },
  {
   "cell_type": "code",
   "execution_count": 74,
   "metadata": {},
   "outputs": [
    {
     "name": "stdout",
     "output_type": "stream",
     "text": [
      "271\n"
     ]
    }
   ],
   "source": [
    "high_risk_cust_count = 0\n",
    "for x in y_test_pred_proba[:,1]:\n",
    "    if x>0.3:\n",
    "        high_risk_cust_count=high_risk_cust_count+1\n",
    "print(high_risk_cust_count)"
   ]
  },
  {
   "cell_type": "code",
   "execution_count": 75,
   "metadata": {},
   "outputs": [
    {
     "name": "stdout",
     "output_type": "stream",
     "text": [
      "1244\n"
     ]
    }
   ],
   "source": [
    "low_risk_cust_count = 0\n",
    "for x in y_test_pred_proba[:,1]:\n",
    "    if x<0.2:\n",
    "        low_risk_cust_count=low_risk_cust_count+1\n",
    "print(low_risk_cust_count)"
   ]
  }
 ],
 "metadata": {
  "kernelspec": {
   "display_name": "Python 3",
   "language": "python",
   "name": "python3"
  },
  "language_info": {
   "codemirror_mode": {
    "name": "ipython",
    "version": 3
   },
   "file_extension": ".py",
   "mimetype": "text/x-python",
   "name": "python",
   "nbconvert_exporter": "python",
   "pygments_lexer": "ipython3",
   "version": "3.7.4"
  }
 },
 "nbformat": 4,
 "nbformat_minor": 4
}
